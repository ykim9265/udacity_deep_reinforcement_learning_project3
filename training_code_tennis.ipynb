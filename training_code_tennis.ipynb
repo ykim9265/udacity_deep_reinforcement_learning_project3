{
 "cells": [
  {
   "cell_type": "markdown",
   "metadata": {},
   "source": [
    "# Training code for Project 3 (i.e. Tennis environment) in Udacity's Deep Reinforcement Learning nanodegree course\n",
    "\n",
    "---\n",
    "\n",
    "In this notebook, we will use the Unity ML-Agents environment for the 3rd project of the [Deep Reinforcement Learning Nanodegree](https://www.udacity.com/course/deep-reinforcement-learning-nanodegree--nd893).\n",
    "\n"
   ]
  },
  {
   "cell_type": "markdown",
   "metadata": {},
   "source": [
    "## 1. Start the Environment\n",
    "\n",
    "We begin by importing the necessary packages.  If the code cell below returns an error, please revisit the project instructions to double-check that you have installed [Unity ML-Agents](https://github.com/Unity-Technologies/ml-agents/blob/master/docs/Installation.md) and [NumPy](http://www.numpy.org/)."
   ]
  },
  {
   "cell_type": "code",
   "execution_count": 1,
   "metadata": {},
   "outputs": [
    {
     "name": "stdout",
     "output_type": "stream",
     "text": [
      "device: cuda:0\n"
     ]
    }
   ],
   "source": [
    "\n",
    "import time\n",
    "import os\n",
    "import sys\n",
    "import pickle\n",
    "from collections import deque\n",
    "\n",
    "import matplotlib.pyplot as plt\n",
    "\n",
    "from unityagents import UnityEnvironment\n",
    "import numpy as np\n",
    "import torch\n",
    "\n",
    "from udacity.ddpg_agent import Agent"
   ]
  },
  {
   "cell_type": "code",
   "execution_count": 2,
   "metadata": {},
   "outputs": [
    {
     "name": "stdout",
     "output_type": "stream",
     "text": [
      "python version: /home/life/.pyenv/versions/3.6.11/envs/upy36/bin\n",
      "torch version: 1.7.0\n"
     ]
    }
   ],
   "source": [
    "\n",
    "print('python version:', os.path.dirname(sys.executable))\n",
    "print('torch version:', torch.__version__)\n"
   ]
  },
  {
   "cell_type": "markdown",
   "metadata": {},
   "source": [
    "Next, we will start the environment!  **_Before running the code cell below_**, change the `file_name` parameter to match the location of the Unity environment that you downloaded.\n",
    "\n",
    "- **Mac**: `\"path/to/Tennis.app\"`\n",
    "- **Windows** (x86): `\"path/to/Tennis_Windows_x86/Tennis.exe\"`\n",
    "- **Windows** (x86_64): `\"path/to/Tennis_Windows_x86_64/Tennis.exe\"`\n",
    "- **Linux** (x86): `\"path/to/Tennis_Linux/Tennis.x86\"`\n",
    "- **Linux** (x86_64): `\"path/to/Tennis_Linux/Tennis.x86_64\"`\n",
    "- **Linux** (x86, headless): `\"path/to/Tennis_Linux_NoVis/Tennis.x86\"`\n",
    "- **Linux** (x86_64, headless): `\"path/to/Tennis_Linux_NoVis/Tennis.x86_64\"`\n",
    "\n",
    "For instance, if you are using a Mac, then you downloaded `Tennis.app`.  If this file is in the same folder as the notebook, then the line below should appear as follows:\n",
    "```\n",
    "env = UnityEnvironment(file_name=\"Tennis.app\")\n",
    "```"
   ]
  },
  {
   "cell_type": "code",
   "execution_count": 3,
   "metadata": {},
   "outputs": [
    {
     "name": "stderr",
     "output_type": "stream",
     "text": [
      "INFO:unityagents:\n",
      "'Academy' started successfully!\n",
      "Unity Academy name: Academy\n",
      "        Number of Brains: 1\n",
      "        Number of External Brains : 1\n",
      "        Lesson number : 0\n",
      "        Reset Parameters :\n",
      "\t\t\n",
      "Unity brain name: TennisBrain\n",
      "        Number of Visual Observations (per agent): 0\n",
      "        Vector Observation space type: continuous\n",
      "        Vector Observation space size (per agent): 8\n",
      "        Number of stacked Vector Observation: 3\n",
      "        Vector Action space type: continuous\n",
      "        Vector Action space size (per agent): 2\n",
      "        Vector Action descriptions: , \n"
     ]
    }
   ],
   "source": [
    "# Here, I've unzipped the 'Tennis_Linux.zip' folder in the same folder as this notebook:\n",
    "fn_env = './Tennis_Linux/Tennis.x86_64'\n",
    "env = UnityEnvironment(file_name=fn_env)"
   ]
  },
  {
   "cell_type": "markdown",
   "metadata": {},
   "source": [
    "Environments contain **_brains_** which are responsible for deciding the actions of their associated agents. Here we check for the first brain available, and set it as the default brain we will be controlling from Python."
   ]
  },
  {
   "cell_type": "code",
   "execution_count": 4,
   "metadata": {},
   "outputs": [],
   "source": [
    "# get the default brain\n",
    "brain_name = env.brain_names[0]\n",
    "brain = env.brains[brain_name]"
   ]
  },
  {
   "cell_type": "markdown",
   "metadata": {},
   "source": [
    "## 2. Examine the State and Action Spaces\n",
    "\n",
    "In this environment, two agents control rackets to bounce a ball over a net. If an agent hits the ball over the net, it receives a reward of +0.1.  If an agent lets a ball hit the ground or hits the ball out of bounds, it receives a reward of -0.01.  Thus, the goal of each agent is to keep the ball in play.\n",
    "\n",
    "The observation space consists of 8 variables corresponding to the position and velocity of the ball and racket. Two continuous actions are available, corresponding to movement toward (or away from) the net, and jumping. \n",
    "\n",
    "Run the code cell below to print some information about the environment."
   ]
  },
  {
   "cell_type": "code",
   "execution_count": 5,
   "metadata": {},
   "outputs": [
    {
     "name": "stdout",
     "output_type": "stream",
     "text": [
      "Number of agents: 2\n",
      "Size of each action: 2\n",
      "There are 2 agents. Each observes a state with length: 24\n",
      "The state for the first agent looks like: [ 0.          0.          0.          0.          0.          0.\n",
      "  0.          0.          0.          0.          0.          0.\n",
      "  0.          0.          0.          0.         -6.65278625 -1.5\n",
      " -0.          0.          6.83172083  6.         -0.          0.        ]\n"
     ]
    }
   ],
   "source": [
    "# reset the environment\n",
    "env_info = env.reset(train_mode=True)[brain_name]\n",
    "\n",
    "# number of agents \n",
    "num_agents = len(env_info.agents)\n",
    "print('Number of agents:', num_agents)\n",
    "\n",
    "# size of each action\n",
    "action_size = brain.vector_action_space_size\n",
    "print('Size of each action:', action_size)\n",
    "\n",
    "# examine the state space \n",
    "states = env_info.vector_observations\n",
    "state_size = states.shape[1]\n",
    "print('There are {} agents. Each observes a state with length: {}'.format(states.shape[0], state_size))\n",
    "print('The state for the first agent looks like:', states[0])"
   ]
  },
  {
   "cell_type": "markdown",
   "metadata": {},
   "source": [
    "## 3. Test run an agent in the environment\n",
    "\n",
    "Below, an agent that makes random actions is included for testing the environment, so that we can be sure that it is working as expected."
   ]
  },
  {
   "cell_type": "code",
   "execution_count": 6,
   "metadata": {},
   "outputs": [],
   "source": [
    "def run_random_agent():\n",
    "    for i in range(1, 6):                                      # play game for 5 episodes\n",
    "        env_info = env.reset(train_mode=False)[brain_name]     # reset the environment    \n",
    "        states = env_info.vector_observations                  # get the current state (for each agent)\n",
    "        scores = np.zeros(num_agents)                          # initialize the score (for each agent)\n",
    "        while True:\n",
    "            actions = np.random.randn(num_agents, action_size) # select an action (for each agent)\n",
    "            actions = np.clip(actions, -1, 1)                  # all actions between -1 and 1\n",
    "            print('actions:', actions.shape)                   # Returns: (2, 2)\n",
    "            env_info = env.step(actions)[brain_name]           # send all actions to tne environment\n",
    "            next_states = env_info.vector_observations         # get next state (for each agent)\n",
    "            print('next_states', next_states.shape)            # Returns: (2, 24)\n",
    "            rewards = env_info.rewards                         # get reward (for each agent)\n",
    "            dones = env_info.local_done                        # see if episode finished\n",
    "            scores += env_info.rewards                         # update the score (for each agent)\n",
    "            states = next_states                               # roll over states to next time step\n",
    "            if np.any(dones):                                  # exit loop if episode finished\n",
    "                break\n",
    "                print('Score (max over agents) from episode {}: {}'.format(i, np.max(scores)))\n",
    "\n",
    "#run_random_agent()\n"
   ]
  },
  {
   "cell_type": "markdown",
   "metadata": {},
   "source": [
    "## 4. Train the two tennis agents using DDPG (Deep Deterministic Policy Gradient)\n",
    "In this section, we will train the two tennis agents using the DDPG algorithm over many episodes."
   ]
  },
  {
   "cell_type": "code",
   "execution_count": 7,
   "metadata": {},
   "outputs": [],
   "source": [
    "def ddpg(agent, n_episodes=1000, max_t=2000, train=True):\n",
    "    \"\"\"Trains an agent over multiple episodes using the DDPG algorithm, and returns a list of final scores for the episodes ran.\n",
    "    \n",
    "    Parameters\n",
    "    ----------\n",
    "    agent\n",
    "        A DDPG agent\n",
    "        \n",
    "    n_episodes: int\n",
    "        Maximum number of training episodes\n",
    "        \n",
    "    max_t: int\n",
    "        Maximum number of time steps per episode. Greater this number, the agent is more likely to accumulate larger total reward.\n",
    "        \n",
    "    train : bool\n",
    "        If True, then the agent will be trained. If False, the agent w/ preloaded weights will interact w/ the environment wo/ training.\n",
    "        \n",
    "    Returns\n",
    "    -------\n",
    "    scores: list\n",
    "        A list of final scores for the episodes ran.\n",
    "        \n",
    "    Notes\n",
    "    -----\n",
    "    The `ddpg` function was taken from the Udacity nanodegree Deep Reinforcement Learning course, and adapted to the Reacher unity environment.\n",
    "    \"\"\"\n",
    "    \n",
    "    fn_scores = 'scores_train.pkl'\n",
    "    if train==False:\n",
    "        fn_scores = 'scores_test.pkl'\n",
    "        \n",
    "    all_scores = []\n",
    "    scores_window = deque(maxlen=100)\n",
    "    \n",
    "    for i_episode in range(1, n_episodes+1):\n",
    "        agent.reset()\n",
    "        env_info = env.reset(train_mode=True)[brain_name] # reset the environment\n",
    "        #env_info = env.reset(train_mode=False)[brain_name] # reset the environment\n",
    "        \n",
    "        states = env_info.vector_observations\n",
    "        scores = np.zeros(num_agents)\n",
    "        \n",
    "        print('states[0]:', states[0])\n",
    "        print('states[1]:', states[1])\n",
    "        \n",
    "        \n",
    "        for t in range(max_t):\n",
    "            actions = agent.act(states)         \n",
    "      \n",
    "            env_info = env.step(actions)[brain_name]        # send the action to the environment\n",
    "            \n",
    "            next_states = env_info.vector_observations   # get the next state\n",
    "            rewards = env_info.rewards                   # get the reward\n",
    "            dones = env_info.local_done                  # see if episode has finished\n",
    "            \n",
    "            if train == True:\n",
    "                agent.step(states, actions, rewards, next_states, dones)\n",
    "            \n",
    "            states = next_states\n",
    "            scores += rewards\n",
    "            \n",
    "            \n",
    "            # Each episode is 1000 steps long. However, here we are going beyond to 'max_t=2000' steps.\n",
    "            # This means the agent has more chance to accumulate rewards due to longer episode.\n",
    "            if np.any(dones):                                  # exit loop if episode finished\n",
    "                #print('episode:', i_episode, ' t:', t)  # \n",
    "                break    \n",
    "            \n",
    "        \n",
    "        score_max = np.max(scores)\n",
    "        scores_window.append(score_max)\n",
    "        all_scores.append(score_max)\n",
    "\n",
    "        # Save data at regular interval:\n",
    "        if i_episode % 100 == 0:\n",
    "            with open(fn_scores, 'wb') as f:\n",
    "                pickle.dump(all_scores, f)\n",
    "                \n",
    "            torch.save(agent.actor_local.state_dict(), 'checkpoint_actor.pth')\n",
    "            torch.save(agent.critic_local.state_dict(), 'checkpoint_critic.pth') \n",
    "          \n",
    "        print('\\rEpisode {}\\tAverage Score: {:.2f}'.format(i_episode, np.mean(scores_window)), end=\"\")\n",
    "        \n",
    "\n",
    "        if i_episode % 100 == 0:\n",
    "            print('\\rEpisode {}\\tAverage Score: {:.2f}'.format(i_episode, np.mean(scores_window)))\n",
    "        if train == True:\n",
    "            if np.mean(scores_window) >= 0.5:\n",
    "                print('Environment solved after {} episodes'.format(i_episode + 1))\n",
    "                torch.save(agent.actor_local.state_dict(), 'checkpoint_actor.pth')\n",
    "                torch.save(agent.critic_local.state_dict(), 'checkpoint_critic.pth') \n",
    "\n",
    "                break\n",
    "          \n",
    "    \n",
    "    return all_scores\n",
    "\n",
    "\n",
    "def ddpg_double(agent1, agent2, n_episodes=1000, max_t=2000, train=True):\n",
    "    \"\"\"Trains an agent over multiple episodes using the DDPG algorithm, and returns a list of final scores for the episodes ran.\n",
    "    \n",
    "    Parameters\n",
    "    ----------\n",
    "    agent1\n",
    "        First DDPG agent\n",
    "    \n",
    "    agent2\n",
    "        Second DDPG agent\n",
    "        \n",
    "    n_episodes: int\n",
    "        Maximum number of training episodes\n",
    "        \n",
    "    max_t: int\n",
    "        Maximum number of time steps per episode. Greater this number, the agent is more likely to accumulate larger total reward.\n",
    "        \n",
    "    train : bool\n",
    "        If True, then the agent will be trained. If False, the agent w/ preloaded weights will interact w/ the environment wo/ training.\n",
    "        \n",
    "    Returns\n",
    "    -------\n",
    "    scores: list\n",
    "        A list of final scores for the episodes ran.\n",
    "        \n",
    "    Notes\n",
    "    -----\n",
    "    The `ddpg` function was taken from the Udacity nanodegree Deep Reinforcement Learning course, and adapted to the Reacher unity environment.\n",
    "    \"\"\"\n",
    "    \n",
    "    fn_scores = 'scores_train.pkl'\n",
    "    if train==False:\n",
    "        fn_scores = 'scores_test.pkl'\n",
    "        \n",
    "        \n",
    "    all_scores = []\n",
    "    scores_window = deque(maxlen=100)\n",
    "    score_max = 0\n",
    "    if train == False:\n",
    "        score_max = 0.25\n",
    "    \n",
    "    for i_episode in range(1, n_episodes+1):\n",
    "        agent1.reset()\n",
    "        agent2.reset()\n",
    "        \n",
    "        env_info = env.reset(train_mode=True)[brain_name] # reset the environment\n",
    "        #env_info = env.reset(train_mode=False)[brain_name] # reset the environment\n",
    "        \n",
    "        states = env_info.vector_observations\n",
    "        scores = np.zeros(num_agents)\n",
    "        \n",
    "        #print('states[0]:', states[0])\n",
    "        #print('states[1]:', states[1])\n",
    "        \n",
    "        \n",
    "        for t in range(max_t):\n",
    "            state1 = states[0]\n",
    "            state2 = states[1]\n",
    "            state1.shape = (-1, state_size)\n",
    "            state2.shape = (-1, state_size)\n",
    "            \n",
    "            #action1 = agent1.act(state1)      # action1 should be (1, 2) array   \n",
    "            #action2 = agent2.act(state2)         \n",
    "            action1 = agent1.act(state1, score_max=score_max)      # action1 should be (1, 2) array   \n",
    "            action2 = agent2.act(state2, score_max=score_max)  \n",
    "            \n",
    "            # Combine actions into one array:\n",
    "            action1.shape = (-1, action_size)\n",
    "            action2.shape = (-1, action_size)          \n",
    "            actions = np.vstack([action1, action2])\n",
    "            \n",
    "            #print('actions:', actions)\n",
    "            #print('states[0]', states[0])\n",
    "            #print('states[1]', states[0])\n",
    "            \n",
    "            env_info = env.step(actions)[brain_name]        # send the action to the environment\n",
    "            \n",
    "            next_states = env_info.vector_observations   # get the next state\n",
    "            rewards = env_info.rewards                   # get the reward\n",
    "            dones = env_info.local_done                  # see if episode has finished\n",
    "            \n",
    "            if train == True:                \n",
    "                \n",
    "                reward1, reward2 = rewards\n",
    "                \n",
    "                next_state1 = next_states[0]\n",
    "                next_state2 = next_states[1]\n",
    "                next_state1.shape = (-1, state_size)\n",
    "                next_state2.shape = (-1, state_size)\n",
    "                \n",
    "                done1, done2 = dones\n",
    "                \n",
    "                agent1.step(state1, action1, [reward1], next_state1, [done1])\n",
    "                agent2.step(state2, action2, [reward2], next_state2, [done2])\n",
    "            \n",
    "            states = next_states\n",
    "            scores += rewards\n",
    "            \n",
    "            \n",
    "            # Each episode is 1000 steps long. However, here we are going beyond to 'max_t=2000' steps.\n",
    "            # This means the agent has more chance to accumulate rewards due to longer episode.\n",
    "            if np.any(dones):                                  # exit loop if episode finished\n",
    "                #print('episode:', i_episode, ' t:', t)  # \n",
    "                break    \n",
    "            \n",
    "        \n",
    "        score_max = np.max(scores)\n",
    "        scores_window.append(score_max)\n",
    "        all_scores.append(score_max)\n",
    "\n",
    "\n",
    "        print('\\rEpisode {}\\tAverage Score: {:.2f}'.format(i_episode, np.mean(scores_window)), end=\"\")\n",
    "        \n",
    "\n",
    "        if i_episode % 100 == 0:\n",
    "            print('\\rEpisode {}\\tAverage Score: {:.2f}'.format(i_episode, np.mean(scores_window)))\n",
    "        if train == True:\n",
    "            # Save data at regular interval:\n",
    "            if i_episode % 100 == 0:\n",
    "                with open(fn_scores, 'wb') as f:\n",
    "                    pickle.dump(all_scores, f)\n",
    "\n",
    "                torch.save(agent1.actor_local.state_dict(), 'agent1_checkpoint_actor.pth')\n",
    "                torch.save(agent1.critic_local.state_dict(), 'agent1_checkpoint_critic.pth') \n",
    "                torch.save(agent2.actor_local.state_dict(), 'agent2_checkpoint_actor.pth')\n",
    "                torch.save(agent2.critic_local.state_dict(), 'agent2_checkpoint_critic.pth') \n",
    "\n",
    "            if np.mean(scores_window) >= 0.5:\n",
    "                print('\\nEnvironment solved after {} episodes'.format(i_episode + 1))\n",
    "                torch.save(agent1.actor_local.state_dict(), 'agent1_checkpoint_actor.pth')\n",
    "                torch.save(agent1.critic_local.state_dict(), 'agent1_checkpoint_critic.pth') \n",
    "                torch.save(agent2.actor_local.state_dict(), 'agent2_checkpoint_actor.pth')\n",
    "                torch.save(agent2.critic_local.state_dict(), 'agent2_checkpoint_critic.pth') \n",
    "\n",
    "                break\n",
    "          \n",
    "    \n",
    "    return all_scores"
   ]
  },
  {
   "cell_type": "code",
   "execution_count": 8,
   "metadata": {},
   "outputs": [
    {
     "name": "stdout",
     "output_type": "stream",
     "text": [
      "Episode 100\tAverage Score: 0.02\n",
      "Episode 105\tAverage Score: 0.02steps_random=2000 reached\n",
      "steps_random=2000 reached\n",
      "Episode 200\tAverage Score: 0.00\n",
      "Episode 300\tAverage Score: 0.02\n",
      "Episode 400\tAverage Score: 0.04\n",
      "Episode 500\tAverage Score: 0.01\n",
      "Episode 600\tAverage Score: 0.01\n",
      "Episode 700\tAverage Score: 0.02\n",
      "Episode 800\tAverage Score: 0.01\n",
      "Episode 900\tAverage Score: 0.00\n",
      "Episode 1000\tAverage Score: 0.00\n",
      "Episode 1100\tAverage Score: 0.00\n",
      "Episode 1200\tAverage Score: 0.00\n",
      "Episode 1300\tAverage Score: 0.00\n",
      "Episode 1400\tAverage Score: 0.01\n",
      "Episode 1500\tAverage Score: 0.01\n",
      "Episode 1600\tAverage Score: 0.02\n",
      "Episode 1700\tAverage Score: 0.06\n",
      "Episode 1800\tAverage Score: 0.05\n",
      "Episode 1900\tAverage Score: 0.06\n",
      "Episode 2000\tAverage Score: 0.07\n",
      "Episode 2100\tAverage Score: 0.06\n",
      "Episode 2200\tAverage Score: 0.09\n",
      "Episode 2300\tAverage Score: 0.16\n",
      "Episode 2400\tAverage Score: 0.11\n",
      "Episode 2500\tAverage Score: 0.10\n",
      "Episode 2600\tAverage Score: 0.12\n",
      "Episode 2700\tAverage Score: 0.11\n",
      "Episode 2800\tAverage Score: 0.11\n",
      "Episode 2900\tAverage Score: 0.12\n",
      "Episode 3000\tAverage Score: 0.11\n",
      "Episode 3100\tAverage Score: 0.12\n",
      "Episode 3200\tAverage Score: 0.16\n",
      "Episode 3300\tAverage Score: 0.33\n",
      "Episode 3363\tAverage Score: 0.52\n",
      "Environment solved after 3364 episodes\n",
      "Training took: 18.132713953653973  minutes\n"
     ]
    }
   ],
   "source": [
    "# Train an agent:\n",
    "seed = 0\n",
    "agent1 = Agent(state_size, action_size, steps_random=2000, random_seed=seed)\n",
    "agent2 = Agent(state_size, action_size, steps_random=2000, random_seed=seed)\n",
    "\n",
    "\n",
    "ts_i = time.time()\n",
    "\n",
    "#scores = ddpg_double(agent1, agent2, n_episodes=10)\n",
    "#scores = ddpg_double(agent1, agent2, n_episodes=1000)\n",
    "#scores = ddpg_double(agent1, agent2, n_episodes=2000)\n",
    "#scores = ddpg_double(agent1, agent2, n_episodes=5000)\n",
    "scores = ddpg_double(agent1, agent2, n_episodes=50000)\n",
    "\n",
    "#scores = ddpg(agent, n_episodes=10)\n",
    "#scores = ddpg(agent, n_episodes=300)\n",
    "#scores = ddpg(agent, n_episodes=1)    # For troubleshooting.\n",
    "#scores = ddpg(agent, n_episodes=5000)\n",
    "\n",
    "ts_j = time.time()\n",
    "ts_diff = ts_j - ts_i\n",
    "print('Training took:', ts_diff/60., ' minutes')\n",
    "\n",
    "# Save scores:\n",
    "with open('scores_train.pkl', 'wb') as f:\n",
    "    pickle.dump(scores, f)"
   ]
  },
  {
   "cell_type": "code",
   "execution_count": 9,
   "metadata": {},
   "outputs": [
    {
     "data": {
      "text/plain": [
       "<matplotlib.legend.Legend at 0x7f3bf3bd9828>"
      ]
     },
     "execution_count": 9,
     "metadata": {},
     "output_type": "execute_result"
    },
    {
     "data": {
      "image/png": "[encoded data removed]",
      "text/plain": [
       "<Figure size 864x432 with 1 Axes>"
      ]
     },
     "metadata": {
      "needs_background": "light"
     },
     "output_type": "display_data"
    }
   ],
   "source": [
    "\n",
    "# Moving average with window size of 100:\n",
    "w = 100\n",
    "scores_ma = np.convolve(scores, np.ones(w), 'valid') / w\n",
    "idx = range(w-1, len(scores))\n",
    "\n",
    "# plot the scores\n",
    "fig = plt.figure(figsize=(12,6))\n",
    "ax = fig.add_subplot(111)\n",
    "\n",
    "plt.plot(scores, label='Score per episode')\n",
    "plt.plot(idx, scores_ma, label='Moving Average (w=100)')\n",
    "plt.ylabel('Score')\n",
    "plt.xlabel('Episode #')\n",
    "plt.title('Maximum score over two agents per episode')\n",
    "plt.axhline(y=0.5, color='gray', linestyle='--', label='Solution Threshold')\n",
    "plt.legend()\n"
   ]
  },
  {
   "cell_type": "markdown",
   "metadata": {},
   "source": [
    "## 5. Confirm that the saved weights contain the trained agent that performs better\n",
    "\n",
    "In this section, we will load learned neural network weights from files `checkpoint_actor.pth` and `checkpoint_critic.pth` into an agent, and re-run agent without training, and evaluate its performance.\n",
    "\n",
    "Note that an average score of 0.5+ for 100 consecutive episodes is considered \"solving\" the environment."
   ]
  },
  {
   "cell_type": "code",
   "execution_count": 10,
   "metadata": {},
   "outputs": [
    {
     "data": {
      "text/plain": [
       "Critic(\n",
       "  (model_1): Sequential(\n",
       "    (0): Linear(in_features=24, out_features=512, bias=True)\n",
       "    (1): BatchNorm1d(512, eps=1e-05, momentum=0.1, affine=True, track_running_stats=True)\n",
       "    (2): ReLU()\n",
       "  )\n",
       "  (model_2): Sequential(\n",
       "    (0): Linear(in_features=514, out_features=256, bias=True)\n",
       "    (1): ReLU()\n",
       "    (2): Dropout(p=0.2, inplace=False)\n",
       "    (3): Linear(in_features=256, out_features=1, bias=True)\n",
       "  )\n",
       ")"
      ]
     },
     "execution_count": 10,
     "metadata": {},
     "output_type": "execute_result"
    }
   ],
   "source": [
    "# Load the model weights from the previous Training step into a new agent:\n",
    "\n",
    "# Test agents:\n",
    "\n",
    "test_agent1 = Agent(state_size, action_size, random_seed=0)\n",
    "test_agent2 = Agent(state_size, action_size, random_seed=0)\n",
    "\n",
    "test_agent1.actor_local.load_state_dict(torch.load('agent1_checkpoint_actor.pth', map_location=torch.device('cpu')))\n",
    "test_agent1.critic_local.load_state_dict(torch.load('agent1_checkpoint_critic.pth', map_location=torch.device('cpu')))\n",
    "\n",
    "test_agent2.actor_local.load_state_dict(torch.load('agent2_checkpoint_actor.pth', map_location=torch.device('cpu')))\n",
    "test_agent2.critic_local.load_state_dict(torch.load('agent2_checkpoint_critic.pth', map_location=torch.device('cpu')))\n",
    "\n",
    "test_agent1.actor_local.eval()\n",
    "test_agent1.critic_local.eval()\n",
    "\n",
    "test_agent2.actor_local.eval()\n",
    "test_agent2.critic_local.eval()\n",
    "\n"
   ]
  },
  {
   "cell_type": "code",
   "execution_count": 11,
   "metadata": {},
   "outputs": [
    {
     "name": "stdout",
     "output_type": "stream",
     "text": [
      "Episode 100\tAverage Score: 2.63\n"
     ]
    }
   ],
   "source": [
    "# Run the new agents for n_episodes:\n",
    "scores_test = ddpg_double(test_agent1, test_agent2, n_episodes=100, train=False)\n",
    "\n",
    "with open('scores_test.pkl', 'wb') as f:\n",
    "    pickle.dump(scores_test, f)"
   ]
  },
  {
   "cell_type": "code",
   "execution_count": 12,
   "metadata": {},
   "outputs": [
    {
     "data": {
      "image/png": "[encoded data removed]",
      "text/plain": [
       "<Figure size 432x288 with 1 Axes>"
      ]
     },
     "metadata": {
      "needs_background": "light"
     },
     "output_type": "display_data"
    }
   ],
   "source": [
    "# plot the scores\n",
    "fig = plt.figure()\n",
    "ax = fig.add_subplot(111)\n",
    "plt.plot(np.arange(len(scores_test)), scores_test)\n",
    "plt.ylabel('Score')\n",
    "plt.xlabel('Episode #')\n",
    "plt.show()"
   ]
  },
  {
   "cell_type": "code",
   "execution_count": 13,
   "metadata": {},
   "outputs": [
    {
     "data": {
      "text/plain": [
       "<matplotlib.lines.Line2D at 0x7f3bef2053c8>"
      ]
     },
     "execution_count": 13,
     "metadata": {},
     "output_type": "execute_result"
    },
    {
     "data": {
      "image/png": "[encoded data removed]",
      "text/plain": [
       "<Figure size 432x288 with 1 Axes>"
      ]
     },
     "metadata": {
      "needs_background": "light"
     },
     "output_type": "display_data"
    }
   ],
   "source": [
    "## Distribution of scores\n",
    "score_mean = np.mean(scores_test)\n",
    "\n",
    "plt.hist(scores_test, bins=10)\n",
    "plt.ylabel('Count')\n",
    "plt.title('Distribution of scores using the trained agent')\n",
    "plt.axvline(x=score_mean, color='red')"
   ]
  },
  {
   "cell_type": "code",
   "execution_count": 14,
   "metadata": {},
   "outputs": [
    {
     "name": "stdout",
     "output_type": "stream",
     "text": [
      "Mean Score: 2.629000039175153\n"
     ]
    }
   ],
   "source": [
    "print('Mean Score:', score_mean)"
   ]
  },
  {
   "cell_type": "code",
   "execution_count": null,
   "metadata": {},
   "outputs": [],
   "source": []
  },
  {
   "cell_type": "code",
   "execution_count": 15,
   "metadata": {},
   "outputs": [],
   "source": [
    "env.close()"
   ]
  },
  {
   "cell_type": "code",
   "execution_count": null,
   "metadata": {},
   "outputs": [],
   "source": []
  },
  {
   "cell_type": "code",
   "execution_count": null,
   "metadata": {},
   "outputs": [],
   "source": []
  },
  {
   "cell_type": "code",
   "execution_count": null,
   "metadata": {},
   "outputs": [],
   "source": []
  }
 ],
 "metadata": {
  "kernelspec": {
   "display_name": "Python 3",
   "language": "python",
   "name": "python3"
  },
  "language_info": {
   "codemirror_mode": {
    "name": "ipython",
    "version": 3
   },
   "file_extension": ".py",
   "mimetype": "text/x-python",
   "name": "python",
   "nbconvert_exporter": "python",
   "pygments_lexer": "ipython3",
   "version": "3.6.11"
  }
 },
 "nbformat": 4,
 "nbformat_minor": 2
}
