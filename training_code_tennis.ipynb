{
 "cells": [
  {
   "cell_type": "markdown",
   "metadata": {},
   "source": [
    "# Collaboration and Competition\n",
    "\n",
    "---\n",
    "\n",
    "In this notebook, you will learn how to use the Unity ML-Agents environment for the third project of the [Deep Reinforcement Learning Nanodegree](https://www.udacity.com/course/deep-reinforcement-learning-nanodegree--nd893) program.\n",
    "\n",
    "### 1. Start the Environment\n",
    "\n",
    "We begin by importing the necessary packages.  If the code cell below returns an error, please revisit the project instructions to double-check that you have installed [Unity ML-Agents](https://github.com/Unity-Technologies/ml-agents/blob/master/docs/Installation.md) and [NumPy](http://www.numpy.org/)."
   ]
  },
  {
   "cell_type": "code",
   "execution_count": 1,
   "metadata": {},
   "outputs": [
    {
     "name": "stdout",
     "output_type": "stream",
     "text": [
      "device: cuda:0\n"
     ]
    }
   ],
   "source": [
    "\n",
    "import time\n",
    "import os\n",
    "import sys\n",
    "import pickle\n",
    "from collections import deque\n",
    "\n",
    "import matplotlib.pyplot as plt\n",
    "\n",
    "from unityagents import UnityEnvironment\n",
    "import numpy as np\n",
    "import torch\n",
    "\n",
    "from udacity.ddpg_agent import Agent"
   ]
  },
  {
   "cell_type": "markdown",
   "metadata": {},
   "source": [
    "Next, we will start the environment!  **_Before running the code cell below_**, change the `file_name` parameter to match the location of the Unity environment that you downloaded.\n",
    "\n",
    "- **Mac**: `\"path/to/Tennis.app\"`\n",
    "- **Windows** (x86): `\"path/to/Tennis_Windows_x86/Tennis.exe\"`\n",
    "- **Windows** (x86_64): `\"path/to/Tennis_Windows_x86_64/Tennis.exe\"`\n",
    "- **Linux** (x86): `\"path/to/Tennis_Linux/Tennis.x86\"`\n",
    "- **Linux** (x86_64): `\"path/to/Tennis_Linux/Tennis.x86_64\"`\n",
    "- **Linux** (x86, headless): `\"path/to/Tennis_Linux_NoVis/Tennis.x86\"`\n",
    "- **Linux** (x86_64, headless): `\"path/to/Tennis_Linux_NoVis/Tennis.x86_64\"`\n",
    "\n",
    "For instance, if you are using a Mac, then you downloaded `Tennis.app`.  If this file is in the same folder as the notebook, then the line below should appear as follows:\n",
    "```\n",
    "env = UnityEnvironment(file_name=\"Tennis.app\")\n",
    "```"
   ]
  },
  {
   "cell_type": "code",
   "execution_count": 2,
   "metadata": {},
   "outputs": [
    {
     "name": "stderr",
     "output_type": "stream",
     "text": [
      "INFO:unityagents:\n",
      "'Academy' started successfully!\n",
      "Unity Academy name: Academy\n",
      "        Number of Brains: 1\n",
      "        Number of External Brains : 1\n",
      "        Lesson number : 0\n",
      "        Reset Parameters :\n",
      "\t\t\n",
      "Unity brain name: TennisBrain\n",
      "        Number of Visual Observations (per agent): 0\n",
      "        Vector Observation space type: continuous\n",
      "        Vector Observation space size (per agent): 8\n",
      "        Number of stacked Vector Observation: 3\n",
      "        Vector Action space type: continuous\n",
      "        Vector Action space size (per agent): 2\n",
      "        Vector Action descriptions: , \n"
     ]
    }
   ],
   "source": [
    "fn_env = './Tennis_Linux/Tennis.x86_64'\n",
    "env = UnityEnvironment(file_name=fn_env)"
   ]
  },
  {
   "cell_type": "markdown",
   "metadata": {},
   "source": [
    "Environments contain **_brains_** which are responsible for deciding the actions of their associated agents. Here we check for the first brain available, and set it as the default brain we will be controlling from Python."
   ]
  },
  {
   "cell_type": "code",
   "execution_count": 3,
   "metadata": {},
   "outputs": [],
   "source": [
    "# get the default brain\n",
    "brain_name = env.brain_names[0]\n",
    "brain = env.brains[brain_name]"
   ]
  },
  {
   "cell_type": "markdown",
   "metadata": {},
   "source": [
    "### 2. Examine the State and Action Spaces\n",
    "\n",
    "In this environment, two agents control rackets to bounce a ball over a net. If an agent hits the ball over the net, it receives a reward of +0.1.  If an agent lets a ball hit the ground or hits the ball out of bounds, it receives a reward of -0.01.  Thus, the goal of each agent is to keep the ball in play.\n",
    "\n",
    "The observation space consists of 8 variables corresponding to the position and velocity of the ball and racket. Two continuous actions are available, corresponding to movement toward (or away from) the net, and jumping. \n",
    "\n",
    "Run the code cell below to print some information about the environment."
   ]
  },
  {
   "cell_type": "code",
   "execution_count": 4,
   "metadata": {},
   "outputs": [
    {
     "name": "stdout",
     "output_type": "stream",
     "text": [
      "Number of agents: 2\n",
      "Size of each action: 2\n",
      "There are 2 agents. Each observes a state with length: 24\n",
      "The state for the first agent looks like: [ 0.          0.          0.          0.          0.          0.\n",
      "  0.          0.          0.          0.          0.          0.\n",
      "  0.          0.          0.          0.         -6.65278625 -1.5\n",
      " -0.          0.          6.83172083  6.         -0.          0.        ]\n"
     ]
    }
   ],
   "source": [
    "# reset the environment\n",
    "env_info = env.reset(train_mode=True)[brain_name]\n",
    "\n",
    "# number of agents \n",
    "num_agents = len(env_info.agents)\n",
    "print('Number of agents:', num_agents)\n",
    "\n",
    "# size of each action\n",
    "action_size = brain.vector_action_space_size\n",
    "print('Size of each action:', action_size)\n",
    "\n",
    "# examine the state space \n",
    "states = env_info.vector_observations\n",
    "state_size = states.shape[1]\n",
    "print('There are {} agents. Each observes a state with length: {}'.format(states.shape[0], state_size))\n",
    "print('The state for the first agent looks like:', states[0])"
   ]
  },
  {
   "cell_type": "markdown",
   "metadata": {},
   "source": [
    "### 3. Take Random Actions in the Environment\n",
    "\n",
    "In the next code cell, you will learn how to use the Python API to control the agents and receive feedback from the environment.\n",
    "\n",
    "Once this cell is executed, you will watch the agents' performance, if they select actions at random with each time step.  A window should pop up that allows you to observe the agents.\n",
    "\n",
    "Of course, as part of the project, you'll have to change the code so that the agents are able to use their experiences to gradually choose better actions when interacting with the environment!"
   ]
  },
  {
   "cell_type": "code",
   "execution_count": 5,
   "metadata": {},
   "outputs": [],
   "source": [
    "def run_random_agent():\n",
    "    for i in range(1, 6):                                      # play game for 5 episodes\n",
    "        env_info = env.reset(train_mode=False)[brain_name]     # reset the environment    \n",
    "        states = env_info.vector_observations                  # get the current state (for each agent)\n",
    "        scores = np.zeros(num_agents)                          # initialize the score (for each agent)\n",
    "        while True:\n",
    "            actions = np.random.randn(num_agents, action_size) # select an action (for each agent)\n",
    "            actions = np.clip(actions, -1, 1)                  # all actions between -1 and 1\n",
    "            print('actions:', actions.shape)                   # Returns: (2, 2)\n",
    "            env_info = env.step(actions)[brain_name]           # send all actions to tne environment\n",
    "            next_states = env_info.vector_observations         # get next state (for each agent)\n",
    "            print('next_states', next_states.shape)            # Returns: (2, 24)\n",
    "            rewards = env_info.rewards                         # get reward (for each agent)\n",
    "            dones = env_info.local_done                        # see if episode finished\n",
    "            scores += env_info.rewards                         # update the score (for each agent)\n",
    "            states = next_states                               # roll over states to next time step\n",
    "            if np.any(dones):                                  # exit loop if episode finished\n",
    "                break\n",
    "                print('Score (max over agents) from episode {}: {}'.format(i, np.max(scores)))\n",
    "\n",
    "#run_random_agent()\n"
   ]
  },
  {
   "cell_type": "markdown",
   "metadata": {},
   "source": [
    "When finished, you can close the environment."
   ]
  },
  {
   "cell_type": "code",
   "execution_count": null,
   "metadata": {},
   "outputs": [],
   "source": []
  },
  {
   "cell_type": "code",
   "execution_count": 6,
   "metadata": {},
   "outputs": [],
   "source": [
    "def ddpg(agent, n_episodes=1000, max_t=2000, train=True):\n",
    "    \"\"\"Trains an agent over multiple episodes using the DDPG algorithm, and returns a list of final scores for the episodes ran.\n",
    "    \n",
    "    Parameters\n",
    "    ----------\n",
    "    agent\n",
    "        A DDPG agent\n",
    "        \n",
    "    n_episodes: int\n",
    "        Maximum number of training episodes\n",
    "        \n",
    "    max_t: int\n",
    "        Maximum number of time steps per episode. Greater this number, the agent is more likely to accumulate larger total reward.\n",
    "        \n",
    "    train : bool\n",
    "        If True, then the agent will be trained. If False, the agent w/ preloaded weights will interact w/ the environment wo/ training.\n",
    "        \n",
    "    Returns\n",
    "    -------\n",
    "    scores: list\n",
    "        A list of final scores for the episodes ran.\n",
    "        \n",
    "    Notes\n",
    "    -----\n",
    "    The `ddpg` function was taken from the Udacity nanodegree Deep Reinforcement Learning course, and adapted to the Reacher unity environment.\n",
    "    \"\"\"\n",
    "    \n",
    "    fn_scores = 'scores_train.pkl'\n",
    "    if train==False:\n",
    "        fn_scores = 'scores_test.pkl'\n",
    "        \n",
    "    all_scores = []\n",
    "    scores_window = deque(maxlen=100)\n",
    "    \n",
    "    for i_episode in range(1, n_episodes+1):\n",
    "        agent.reset()\n",
    "        env_info = env.reset(train_mode=True)[brain_name] # reset the environment\n",
    "        #env_info = env.reset(train_mode=False)[brain_name] # reset the environment\n",
    "        \n",
    "        states = env_info.vector_observations\n",
    "        scores = np.zeros(num_agents)\n",
    "        \n",
    "        print('states[0]:', states[0])\n",
    "        print('states[1]:', states[1])\n",
    "        \n",
    "        \n",
    "        for t in range(max_t):\n",
    "            actions = agent.act(states)         \n",
    "      \n",
    "            env_info = env.step(actions)[brain_name]        # send the action to the environment\n",
    "            \n",
    "            next_states = env_info.vector_observations   # get the next state\n",
    "            rewards = env_info.rewards                   # get the reward\n",
    "            dones = env_info.local_done                  # see if episode has finished\n",
    "            \n",
    "            if train == True:\n",
    "                agent.step(states, actions, rewards, next_states, dones)\n",
    "            \n",
    "            states = next_states\n",
    "            scores += rewards\n",
    "            \n",
    "            \n",
    "            # Each episode is 1000 steps long. However, here we are going beyond to 'max_t=2000' steps.\n",
    "            # This means the agent has more chance to accumulate rewards due to longer episode.\n",
    "            if np.any(dones):                                  # exit loop if episode finished\n",
    "                #print('episode:', i_episode, ' t:', t)  # \n",
    "                break    \n",
    "            \n",
    "        \n",
    "        score_max = np.max(scores)\n",
    "        scores_window.append(score_max)\n",
    "        all_scores.append(score_max)\n",
    "\n",
    "        # Save data at regular interval:\n",
    "        if i_episode % 100 == 0:\n",
    "            with open(fn_scores, 'wb') as f:\n",
    "                pickle.dump(all_scores, f)\n",
    "                \n",
    "            torch.save(agent.actor_local.state_dict(), 'checkpoint_actor.pth')\n",
    "            torch.save(agent.critic_local.state_dict(), 'checkpoint_critic.pth') \n",
    "          \n",
    "        print('\\rEpisode {}\\tAverage Score: {:.2f}'.format(i_episode, np.mean(scores_window)), end=\"\")\n",
    "        \n",
    "\n",
    "        if i_episode % 100 == 0:\n",
    "            print('\\rEpisode {}\\tAverage Score: {:.2f}'.format(i_episode, np.mean(scores_window)))\n",
    "        if train == True:\n",
    "            if np.mean(scores_window) >= 0.5:\n",
    "                print('Environment solved after {} episodes'.format(i_episode + 1))\n",
    "                torch.save(agent.actor_local.state_dict(), 'checkpoint_actor.pth')\n",
    "                torch.save(agent.critic_local.state_dict(), 'checkpoint_critic.pth') \n",
    "\n",
    "                break\n",
    "          \n",
    "    \n",
    "    return all_scores\n",
    "\n",
    "\n",
    "def ddpg_double(agent1, agent2, n_episodes=1000, max_t=2000, train=True):\n",
    "    \"\"\"Trains an agent over multiple episodes using the DDPG algorithm, and returns a list of final scores for the episodes ran.\n",
    "    \n",
    "    Parameters\n",
    "    ----------\n",
    "    agent1\n",
    "        First DDPG agent\n",
    "    \n",
    "    agent2\n",
    "        Second DDPG agent\n",
    "        \n",
    "    n_episodes: int\n",
    "        Maximum number of training episodes\n",
    "        \n",
    "    max_t: int\n",
    "        Maximum number of time steps per episode. Greater this number, the agent is more likely to accumulate larger total reward.\n",
    "        \n",
    "    train : bool\n",
    "        If True, then the agent will be trained. If False, the agent w/ preloaded weights will interact w/ the environment wo/ training.\n",
    "        \n",
    "    Returns\n",
    "    -------\n",
    "    scores: list\n",
    "        A list of final scores for the episodes ran.\n",
    "        \n",
    "    Notes\n",
    "    -----\n",
    "    The `ddpg` function was taken from the Udacity nanodegree Deep Reinforcement Learning course, and adapted to the Reacher unity environment.\n",
    "    \"\"\"\n",
    "    \n",
    "    fn_scores = 'scores_train.pkl'\n",
    "    if train==False:\n",
    "        fn_scores = 'scores_test.pkl'\n",
    "        \n",
    "        \n",
    "    all_scores = []\n",
    "    scores_window = deque(maxlen=100)\n",
    "    score_max = 0\n",
    "    \n",
    "    for i_episode in range(1, n_episodes+1):\n",
    "        agent1.reset()\n",
    "        agent2.reset()\n",
    "        \n",
    "        env_info = env.reset(train_mode=True)[brain_name] # reset the environment\n",
    "        #env_info = env.reset(train_mode=False)[brain_name] # reset the environment\n",
    "        \n",
    "        states = env_info.vector_observations\n",
    "        scores = np.zeros(num_agents)\n",
    "        \n",
    "        #print('states[0]:', states[0])\n",
    "        #print('states[1]:', states[1])\n",
    "        \n",
    "        \n",
    "        for t in range(max_t):\n",
    "            state1 = states[0]\n",
    "            state2 = states[1]\n",
    "            state1.shape = (-1, state_size)\n",
    "            state2.shape = (-1, state_size)\n",
    "            \n",
    "            #action1 = agent1.act(state1)      # action1 should be (1, 2) array   \n",
    "            #action2 = agent2.act(state2)         \n",
    "            action1 = agent1.act(state1, score_max=score_max)      # action1 should be (1, 2) array   \n",
    "            action2 = agent2.act(state2, score_max=score_max)  \n",
    "            \n",
    "            # Combine actions into one array:\n",
    "            action1.shape = (-1, action_size)\n",
    "            action2.shape = (-1, action_size)          \n",
    "            actions = np.vstack([action1, action2])\n",
    "            \n",
    "            #print('actions:', actions)\n",
    "            #print('states[0]', states[0])\n",
    "            #print('states[1]', states[0])\n",
    "            \n",
    "            env_info = env.step(actions)[brain_name]        # send the action to the environment\n",
    "            \n",
    "            next_states = env_info.vector_observations   # get the next state\n",
    "            rewards = env_info.rewards                   # get the reward\n",
    "            dones = env_info.local_done                  # see if episode has finished\n",
    "            \n",
    "            if train == True:                \n",
    "                \n",
    "                reward1, reward2 = rewards\n",
    "                \n",
    "                next_state1 = next_states[0]\n",
    "                next_state2 = next_states[1]\n",
    "                next_state1.shape = (-1, state_size)\n",
    "                next_state2.shape = (-1, state_size)\n",
    "                \n",
    "                done1, done2 = dones\n",
    "                \n",
    "                agent1.step(state1, action1, [reward1], next_state1, [done1])\n",
    "                agent2.step(state2, action2, [reward2], next_state2, [done2])\n",
    "            \n",
    "            states = next_states\n",
    "            scores += rewards\n",
    "            \n",
    "            \n",
    "            # Each episode is 1000 steps long. However, here we are going beyond to 'max_t=2000' steps.\n",
    "            # This means the agent has more chance to accumulate rewards due to longer episode.\n",
    "            if np.any(dones):                                  # exit loop if episode finished\n",
    "                #print('episode:', i_episode, ' t:', t)  # \n",
    "                break    \n",
    "            \n",
    "        \n",
    "        score_max = np.max(scores)\n",
    "        scores_window.append(score_max)\n",
    "        all_scores.append(score_max)\n",
    "\n",
    "        # Save data at regular interval:\n",
    "        if i_episode % 100 == 0:\n",
    "            with open(fn_scores, 'wb') as f:\n",
    "                pickle.dump(all_scores, f)\n",
    "                \n",
    "            torch.save(agent1.actor_local.state_dict(), 'agent1_checkpoint_actor.pth')\n",
    "            torch.save(agent1.critic_local.state_dict(), 'agent1_checkpoint_critic.pth') \n",
    "            torch.save(agent2.actor_local.state_dict(), 'agent2_checkpoint_actor.pth')\n",
    "            torch.save(agent2.critic_local.state_dict(), 'agent2_checkpoint_critic.pth') \n",
    "            \n",
    "        print('\\rEpisode {}\\tAverage Score: {:.2f}'.format(i_episode, np.mean(scores_window)), end=\"\")\n",
    "        \n",
    "\n",
    "        if i_episode % 100 == 0:\n",
    "            print('\\rEpisode {}\\tAverage Score: {:.2f}'.format(i_episode, np.mean(scores_window)))\n",
    "        if train == True:\n",
    "            if np.mean(scores_window) >= 0.5:\n",
    "                print('Environment solved after {} episodes'.format(i_episode + 1))\n",
    "                torch.save(agent1.actor_local.state_dict(), 'agent1_checkpoint_actor.pth')\n",
    "                torch.save(agent1.critic_local.state_dict(), 'agent1_checkpoint_critic.pth') \n",
    "                torch.save(agent2.actor_local.state_dict(), 'agent2_checkpoint_actor.pth')\n",
    "                torch.save(agent2.critic_local.state_dict(), 'agent2_checkpoint_critic.pth') \n",
    "\n",
    "                break\n",
    "          \n",
    "    \n",
    "    return all_scores"
   ]
  },
  {
   "cell_type": "code",
   "execution_count": 7,
   "metadata": {},
   "outputs": [
    {
     "name": "stdout",
     "output_type": "stream",
     "text": [
      "Updated network architecture using Sequential\n",
      "Updated network architecture using Sequential\n",
      "Updated network architecture using Sequential\n",
      "Updated network architecture using Sequential\n",
      "Updated network architecture using Sequential\n",
      "Updated network architecture using Sequential\n",
      "Updated network architecture using Sequential\n",
      "Updated network architecture using Sequential\n",
      "Episode 100\tAverage Score: 0.02\n",
      "Episode 111\tAverage Score: 0.02STEPS_RANDOM=2000 reached\n",
      "STEPS_RANDOM=2000 reached\n",
      "Episode 200\tAverage Score: 0.00\n",
      "Episode 300\tAverage Score: 0.01\n",
      "Episode 400\tAverage Score: 0.00\n",
      "Episode 500\tAverage Score: 0.01\n",
      "Episode 600\tAverage Score: 0.05\n",
      "Episode 700\tAverage Score: 0.03\n",
      "Episode 800\tAverage Score: 0.02\n",
      "Episode 900\tAverage Score: 0.00\n",
      "Episode 1000\tAverage Score: 0.00\n",
      "Episode 1100\tAverage Score: 0.00\n",
      "Episode 1200\tAverage Score: 0.00\n",
      "Episode 1300\tAverage Score: 0.00\n",
      "Episode 1400\tAverage Score: 0.00\n",
      "Episode 1500\tAverage Score: 0.01\n",
      "Episode 1600\tAverage Score: 0.04\n",
      "Episode 1700\tAverage Score: 0.05\n",
      "Episode 1800\tAverage Score: 0.05\n",
      "Episode 1900\tAverage Score: 0.06\n",
      "Episode 2000\tAverage Score: 0.05\n",
      "Episode 2100\tAverage Score: 0.05\n",
      "Episode 2200\tAverage Score: 0.05\n",
      "Episode 2300\tAverage Score: 0.07\n",
      "Episode 2400\tAverage Score: 0.06\n",
      "Episode 2500\tAverage Score: 0.11\n",
      "Episode 2600\tAverage Score: 0.11\n",
      "Episode 2700\tAverage Score: 0.13\n",
      "Episode 2800\tAverage Score: 0.14\n",
      "Episode 2900\tAverage Score: 0.14\n",
      "Episode 3000\tAverage Score: 0.23\n",
      "Episode 3100\tAverage Score: 0.28\n",
      "Episode 3200\tAverage Score: 0.27\n",
      "Episode 3290\tAverage Score: 0.50Environment solved after 3291 episodes\n",
      "Training took: 17.18998130559921  minutes\n"
     ]
    }
   ],
   "source": [
    "# Train an agent:\n",
    "seed = 0\n",
    "agent1 = Agent(state_size, action_size, random_seed=seed)\n",
    "agent2 = Agent(state_size, action_size, random_seed=seed)\n",
    "\n",
    "\n",
    "ts_i = time.time()\n",
    "\n",
    "#scores = ddpg_double(agent1, agent2, n_episodes=10)\n",
    "#scores = ddpg_double(agent1, agent2, n_episodes=1000)\n",
    "#scores = ddpg_double(agent1, agent2, n_episodes=2000)\n",
    "#scores = ddpg_double(agent1, agent2, n_episodes=5000)\n",
    "scores = ddpg_double(agent1, agent2, n_episodes=50000)\n",
    "\n",
    "#scores = ddpg(agent, n_episodes=10)\n",
    "#scores = ddpg(agent, n_episodes=300)\n",
    "#scores = ddpg(agent, n_episodes=1)    # For troubleshooting.\n",
    "#scores = ddpg(agent, n_episodes=5000)\n",
    "\n",
    "ts_j = time.time()\n",
    "ts_diff = ts_j - ts_i\n",
    "print('Training took:', ts_diff/60., ' minutes')\n",
    "\n",
    "# Save scores:\n",
    "with open('scores_train.pkl', 'wb') as f:\n",
    "    pickle.dump(scores, f)"
   ]
  },
  {
   "cell_type": "code",
   "execution_count": 8,
   "metadata": {},
   "outputs": [
    {
     "data": {
      "image/png": "[encoded data removed]",
      "text/plain": [
       "<Figure size 432x288 with 1 Axes>"
      ]
     },
     "metadata": {
      "needs_background": "light"
     },
     "output_type": "display_data"
    }
   ],
   "source": [
    "# plot the scores\n",
    "fig = plt.figure()\n",
    "ax = fig.add_subplot(111)\n",
    "plt.plot(np.arange(len(scores)), scores)\n",
    "plt.ylabel('Score')\n",
    "plt.xlabel('Episode #')\n",
    "plt.show()"
   ]
  },
  {
   "cell_type": "code",
   "execution_count": 9,
   "metadata": {},
   "outputs": [
    {
     "data": {
      "text/plain": [
       "[<matplotlib.lines.Line2D at 0x7f35ac5856d8>]"
      ]
     },
     "execution_count": 9,
     "metadata": {},
     "output_type": "execute_result"
    },
    {
     "data": {
      "image/png": "[encoded data removed]",
      "text/plain": [
       "<Figure size 432x288 with 1 Axes>"
      ]
     },
     "metadata": {
      "needs_background": "light"
     },
     "output_type": "display_data"
    }
   ],
   "source": [
    "#import pandas as pd\n",
    "def moving_average(x, w):\n",
    "    return np.convolve(x, np.ones(w), 'valid') / w\n",
    "\n",
    "#df = pd.DataFrame({'score':scores})\n",
    "#df.head()\n",
    "\n",
    "x = moving_average(scores, 100)\n",
    "plt.plot(x)\n"
   ]
  },
  {
   "cell_type": "code",
   "execution_count": 10,
   "metadata": {},
   "outputs": [
    {
     "ename": "IndexError",
     "evalue": "tuple index out of range",
     "output_type": "error",
     "traceback": [
      "\u001b[0;31m---------------------------------------------------------------------------\u001b[0m",
      "\u001b[0;31mIndexError\u001b[0m                                Traceback (most recent call last)",
      "\u001b[0;32m<ipython-input-10-9182d97ad967>\u001b[0m in \u001b[0;36m<module>\u001b[0;34m\u001b[0m\n\u001b[0;32m----> 1\u001b[0;31m \u001b[0mnp\u001b[0m\u001b[0;34m.\u001b[0m\u001b[0mma\u001b[0m\u001b[0;34m.\u001b[0m\u001b[0maverage\u001b[0m\u001b[0;34m(\u001b[0m\u001b[0mscores\u001b[0m\u001b[0;34m,\u001b[0m \u001b[0mweights\u001b[0m\u001b[0;34m=\u001b[0m\u001b[0;34m[\u001b[0m\u001b[0;36m1\u001b[0m\u001b[0;34m,\u001b[0m\u001b[0;36m1\u001b[0m\u001b[0;34m,\u001b[0m\u001b[0;36m1\u001b[0m\u001b[0;34m]\u001b[0m\u001b[0;34m,\u001b[0m \u001b[0maxis\u001b[0m\u001b[0;34m=\u001b[0m\u001b[0;36m1\u001b[0m\u001b[0;34m)\u001b[0m\u001b[0;34m\u001b[0m\u001b[0;34m\u001b[0m\u001b[0m\n\u001b[0m",
      "\u001b[0;32m~/.pyenv/versions/3.6.11/envs/upy36/lib/python3.6/site-packages/numpy/ma/extras.py\u001b[0m in \u001b[0;36maverage\u001b[0;34m(a, axis, weights, returned)\u001b[0m\n\u001b[1;32m    615\u001b[0m                 raise TypeError(\n\u001b[1;32m    616\u001b[0m                     \"1D weights expected when shapes of a and weights differ.\")\n\u001b[0;32m--> 617\u001b[0;31m             \u001b[0;32mif\u001b[0m \u001b[0mwgt\u001b[0m\u001b[0;34m.\u001b[0m\u001b[0mshape\u001b[0m\u001b[0;34m[\u001b[0m\u001b[0;36m0\u001b[0m\u001b[0;34m]\u001b[0m \u001b[0;34m!=\u001b[0m \u001b[0ma\u001b[0m\u001b[0;34m.\u001b[0m\u001b[0mshape\u001b[0m\u001b[0;34m[\u001b[0m\u001b[0maxis\u001b[0m\u001b[0;34m]\u001b[0m\u001b[0;34m:\u001b[0m\u001b[0;34m\u001b[0m\u001b[0;34m\u001b[0m\u001b[0m\n\u001b[0m\u001b[1;32m    618\u001b[0m                 raise ValueError(\n\u001b[1;32m    619\u001b[0m                     \"Length of weights not compatible with specified axis.\")\n",
      "\u001b[0;31mIndexError\u001b[0m: tuple index out of range"
     ]
    }
   ],
   "source": [
    "np.ma.average(scores, weights=[1,1,1], axis=1)"
   ]
  },
  {
   "cell_type": "code",
   "execution_count": 12,
   "metadata": {},
   "outputs": [
    {
     "ename": "AttributeError",
     "evalue": "'list' object has no attribute 'shape'",
     "output_type": "error",
     "traceback": [
      "\u001b[0;31m---------------------------------------------------------------------------\u001b[0m",
      "\u001b[0;31mAttributeError\u001b[0m                            Traceback (most recent call last)",
      "\u001b[0;32m<ipython-input-12-5c8816b9fcc8>\u001b[0m in \u001b[0;36m<module>\u001b[0;34m\u001b[0m\n\u001b[0;32m----> 1\u001b[0;31m \u001b[0mscores\u001b[0m\u001b[0;34m.\u001b[0m\u001b[0mshape\u001b[0m\u001b[0;34m\u001b[0m\u001b[0;34m\u001b[0m\u001b[0m\n\u001b[0m",
      "\u001b[0;31mAttributeError\u001b[0m: 'list' object has no attribute 'shape'"
     ]
    }
   ],
   "source": [
    "scores.shape"
   ]
  },
  {
   "cell_type": "code",
   "execution_count": 11,
   "metadata": {},
   "outputs": [],
   "source": [
    "env.close()"
   ]
  },
  {
   "cell_type": "code",
   "execution_count": null,
   "metadata": {},
   "outputs": [],
   "source": []
  }
 ],
 "metadata": {
  "kernelspec": {
   "display_name": "Python 3",
   "language": "python",
   "name": "python3"
  },
  "language_info": {
   "codemirror_mode": {
    "name": "ipython",
    "version": 3
   },
   "file_extension": ".py",
   "mimetype": "text/x-python",
   "name": "python",
   "nbconvert_exporter": "python",
   "pygments_lexer": "ipython3",
   "version": "3.6.11"
  }
 },
 "nbformat": 4,
 "nbformat_minor": 2
}
